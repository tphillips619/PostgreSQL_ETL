{
 "cells": [
  {
   "cell_type": "code",
   "execution_count": 1,
   "metadata": {
    "editable": true
   },
   "outputs": [],
   "source": [
    "import os\n",
    "import glob\n",
    "import psycopg2\n",
    "import pandas as pd\n",
    "from sql_queries import *\n",
    "import pandas.io.sql as sqlio\n",
    "\n",
    "import matplotlib.pyplot as plt\n",
    "%matplotlib inline"
   ]
  },
  {
   "cell_type": "code",
   "execution_count": 2,
   "metadata": {
    "editable": true
   },
   "outputs": [],
   "source": [
    "!python create_tables.py"
   ]
  },
  {
   "cell_type": "code",
   "execution_count": 3,
   "metadata": {
    "editable": true
   },
   "outputs": [
    {
     "name": "stdout",
     "output_type": "stream",
     "text": [
      "73 files found in data/song_data\n",
      "1/73 files processed.\n",
      "2/73 files processed.\n",
      "3/73 files processed.\n",
      "4/73 files processed.\n",
      "5/73 files processed.\n",
      "6/73 files processed.\n",
      "7/73 files processed.\n",
      "8/73 files processed.\n",
      "9/73 files processed.\n",
      "10/73 files processed.\n",
      "11/73 files processed.\n",
      "12/73 files processed.\n",
      "13/73 files processed.\n",
      "14/73 files processed.\n",
      "15/73 files processed.\n",
      "16/73 files processed.\n",
      "17/73 files processed.\n",
      "18/73 files processed.\n",
      "19/73 files processed.\n",
      "20/73 files processed.\n",
      "21/73 files processed.\n",
      "22/73 files processed.\n",
      "23/73 files processed.\n",
      "24/73 files processed.\n",
      "25/73 files processed.\n",
      "26/73 files processed.\n",
      "27/73 files processed.\n",
      "28/73 files processed.\n",
      "29/73 files processed.\n",
      "30/73 files processed.\n",
      "31/73 files processed.\n",
      "32/73 files processed.\n",
      "33/73 files processed.\n",
      "34/73 files processed.\n",
      "35/73 files processed.\n",
      "36/73 files processed.\n",
      "37/73 files processed.\n",
      "38/73 files processed.\n",
      "39/73 files processed.\n",
      "40/73 files processed.\n",
      "41/73 files processed.\n",
      "42/73 files processed.\n",
      "43/73 files processed.\n",
      "44/73 files processed.\n",
      "45/73 files processed.\n",
      "46/73 files processed.\n",
      "47/73 files processed.\n",
      "48/73 files processed.\n",
      "49/73 files processed.\n",
      "50/73 files processed.\n",
      "51/73 files processed.\n",
      "52/73 files processed.\n",
      "53/73 files processed.\n",
      "54/73 files processed.\n",
      "55/73 files processed.\n",
      "56/73 files processed.\n",
      "57/73 files processed.\n",
      "58/73 files processed.\n",
      "59/73 files processed.\n",
      "60/73 files processed.\n",
      "61/73 files processed.\n",
      "62/73 files processed.\n",
      "63/73 files processed.\n",
      "64/73 files processed.\n",
      "65/73 files processed.\n",
      "66/73 files processed.\n",
      "67/73 files processed.\n",
      "68/73 files processed.\n",
      "69/73 files processed.\n",
      "70/73 files processed.\n",
      "71/73 files processed.\n",
      "72/73 files processed.\n",
      "73/73 files processed.\n",
      "30 files found in data/log_data\n",
      "1/30 files processed.\n",
      "2/30 files processed.\n",
      "3/30 files processed.\n",
      "4/30 files processed.\n",
      "5/30 files processed.\n",
      "6/30 files processed.\n",
      "7/30 files processed.\n",
      "8/30 files processed.\n",
      "9/30 files processed.\n",
      "10/30 files processed.\n",
      "11/30 files processed.\n",
      "12/30 files processed.\n",
      "13/30 files processed.\n",
      "14/30 files processed.\n",
      "15/30 files processed.\n",
      "16/30 files processed.\n",
      "17/30 files processed.\n",
      "18/30 files processed.\n",
      "19/30 files processed.\n",
      "20/30 files processed.\n",
      "21/30 files processed.\n",
      "22/30 files processed.\n",
      "23/30 files processed.\n",
      "24/30 files processed.\n",
      "25/30 files processed.\n",
      "26/30 files processed.\n",
      "27/30 files processed.\n",
      "28/30 files processed.\n",
      "29/30 files processed.\n",
      "30/30 files processed.\n"
     ]
    }
   ],
   "source": [
    "!python etl.py"
   ]
  },
  {
   "cell_type": "code",
   "execution_count": 4,
   "metadata": {
    "editable": true
   },
   "outputs": [],
   "source": [
    "conn = psycopg2.connect(\"host=127.0.0.1 dbname=sparkifydb user=student password=student\")\n",
    "conn.set_session(autocommit=True)\n",
    "cur = conn.cursor()"
   ]
  },
  {
   "cell_type": "code",
   "execution_count": 5,
   "metadata": {
    "editable": true
   },
   "outputs": [
    {
     "data": {
      "text/html": [
       "<div>\n",
       "<style scoped>\n",
       "    .dataframe tbody tr th:only-of-type {\n",
       "        vertical-align: middle;\n",
       "    }\n",
       "\n",
       "    .dataframe tbody tr th {\n",
       "        vertical-align: top;\n",
       "    }\n",
       "\n",
       "    .dataframe thead th {\n",
       "        text-align: right;\n",
       "    }\n",
       "</style>\n",
       "<table border=\"1\" class=\"dataframe\">\n",
       "  <thead>\n",
       "    <tr style=\"text-align: right;\">\n",
       "      <th></th>\n",
       "      <th>level</th>\n",
       "      <th>User Count</th>\n",
       "    </tr>\n",
       "  </thead>\n",
       "  <tbody>\n",
       "    <tr>\n",
       "      <th>0</th>\n",
       "      <td>free</td>\n",
       "      <td>76</td>\n",
       "    </tr>\n",
       "    <tr>\n",
       "      <th>1</th>\n",
       "      <td>paid</td>\n",
       "      <td>20</td>\n",
       "    </tr>\n",
       "  </tbody>\n",
       "</table>\n",
       "</div>"
      ],
      "text/plain": [
       "  level  User Count\n",
       "0  free          76\n",
       "1  paid          20"
      ]
     },
     "execution_count": 5,
     "metadata": {},
     "output_type": "execute_result"
    }
   ],
   "source": [
    "q = \"\"\"\n",
    "SELECT level, count(*) as \"User Count\"\n",
    "FROM users\n",
    "GROUP BY level\n",
    "\"\"\"\n",
    "\n",
    "sqlio.read_sql_query(q, conn)"
   ]
  },
  {
   "cell_type": "code",
   "execution_count": 6,
   "metadata": {
    "editable": true
   },
   "outputs": [],
   "source": [
    "q = \"\"\"SELECT *\n",
    "FROM songplays\"\"\"\n",
    "\n",
    "songplays = sqlio.read_sql_query(q, conn)"
   ]
  },
  {
   "cell_type": "code",
   "execution_count": 7,
   "metadata": {
    "editable": true
   },
   "outputs": [
    {
     "data": {
      "text/plain": [
       "(array([0, 1]), <a list of 2 Text xticklabel objects>)"
      ]
     },
     "execution_count": 7,
     "metadata": {},
     "output_type": "execute_result"
    },
    {
     "data": {
      "image/png": "[encoded data removed]",
      "text/plain": [
       "<matplotlib.figure.Figure at 0x7fce04502e10>"
      ]
     },
     "metadata": {
      "needs_background": "light"
     },
     "output_type": "display_data"
    }
   ],
   "source": [
    "songplays['level'].value_counts().plot(kind='bar',\n",
    "                                      title='Songplays per Level')\n",
    "plt.xticks(rotation=0)"
   ]
  },
  {
   "cell_type": "markdown",
   "metadata": {
    "editable": true
   },
   "source": [
    "Most users are in the free tier, but the vast majority of songplays come from the paid tier."
   ]
  },
  {
   "cell_type": "code",
   "execution_count": 8,
   "metadata": {
    "editable": true
   },
   "outputs": [
    {
     "data": {
      "text/plain": [
       "<matplotlib.axes._subplots.AxesSubplot at 0x7fcde05ba5c0>"
      ]
     },
     "execution_count": 8,
     "metadata": {},
     "output_type": "execute_result"
    },
    {
     "data": {
      "image/png": "[encoded data removed]",
      "text/plain": [
       "<matplotlib.figure.Figure at 0x7fcde04b9c88>"
      ]
     },
     "metadata": {
      "needs_background": "light"
     },
     "output_type": "display_data"
    }
   ],
   "source": [
    "songplays['hour'] = songplays['start_time'].dt.hour\n",
    "songplays.groupby('hour')['start_time'].count().plot(title='Songplays by Hour of the Day')"
   ]
  },
  {
   "cell_type": "code",
   "execution_count": 9,
   "metadata": {
    "editable": true
   },
   "outputs": [
    {
     "data": {
      "text/plain": [
       "<matplotlib.axes._subplots.AxesSubplot at 0x7fcde0669f60>"
      ]
     },
     "execution_count": 9,
     "metadata": {},
     "output_type": "execute_result"
    },
    {
     "data": {
      "image/png": "[encoded data removed]",
      "text/plain": [
       "<matplotlib.figure.Figure at 0x7fcdde417f28>"
      ]
     },
     "metadata": {
      "needs_background": "light"
     },
     "output_type": "display_data"
    }
   ],
   "source": [
    "songplays['weekday'] = songplays['start_time'].dt.weekday\n",
    "songplays.groupby('weekday')['start_time'].count().plot(title='Songplays by Weekday')"
   ]
  },
  {
   "cell_type": "code",
   "execution_count": null,
   "metadata": {
    "editable": true
   },
   "outputs": [],
   "source": []
  }
 ],
 "metadata": {
  "kernelspec": {
   "display_name": "Python 3",
   "language": "python",
   "name": "python3"
  },
  "language_info": {
   "codemirror_mode": {
    "name": "ipython",
    "version": 3
   },
   "file_extension": ".py",
   "mimetype": "text/x-python",
   "name": "python",
   "nbconvert_exporter": "python",
   "pygments_lexer": "ipython3",
   "version": "3.6.3"
  }
 },
 "nbformat": 4,
 "nbformat_minor": 4
}
